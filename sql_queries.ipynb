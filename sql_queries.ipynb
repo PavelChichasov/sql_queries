{
 "cells": [
  {
   "cell_type": "markdown",
   "metadata": {},
   "source": [
    "# Анализ сервиса чтения книг по подписке"
   ]
  },
  {
   "cell_type": "markdown",
   "metadata": {},
   "source": [
    "<ins>**Задачи проекта:**</ins>\n",
    "\n",
    "1. Посчитайте, сколько книг вышло после 1 января 2000 года.\n",
    "1. Для каждой книги посчитайте количество обзоров и среднюю оценку.\n",
    "1. Определите издательство, которое выпустило наибольшее число книг толще 50 страниц — так вы исключите из анализа брошюры.\n",
    "1. Определите автора с самой высокой средней оценкой книг — учитывайте только книги с 50 и более оценками.\n",
    "1. Посчитайте среднее количество обзоров от пользователей, которые поставили больше 48 оценок.\n",
    "\n",
    "<ins>**Описание данных:**</ins>\n",
    "\n",
    "**1. Таблица `books`**\n",
    "\n",
    "    *Содержит данные о книгах:*\n",
    "\n",
    "* `book_id` — идентификатор книги;\n",
    "* `author_id` — идентификатор автора;\n",
    "* `title` — название книги;\n",
    "* `num_pages` — количество страниц;\n",
    "* `publication_date` — дата публикации книги;\n",
    "* `publisher_id` — идентификатор издателя.\n",
    "\n",
    "**2. Таблица `authors`**\n",
    "\n",
    "*Содержит данные об авторах:*\n",
    "\n",
    "* `author_id` — идентификатор автора;\n",
    "* `author` — имя автора.\n",
    "\n",
    "**3. Таблица `publishers`**\n",
    "\n",
    "*Содержит данные об издательствах:*\n",
    "\n",
    "* `publisher_id` — идентификатор издательства;\n",
    "* `publisher` — название издательства;\n",
    "\n",
    "**4. Таблица `ratings`**\n",
    "\n",
    "*Содержит данные о пользовательских оценках книг:*\n",
    "\n",
    "* `rating_id` — идентификатор оценки;\n",
    "* `book_id` — идентификатор книги;\n",
    "* `username` — имя пользователя, оставившего оценку;\n",
    "* `rating` — оценка книги.\n",
    "\n",
    "**5. Таблица `reviews`**\n",
    "\n",
    "*Содержит данные о пользовательских обзорах на книги:*\n",
    "\n",
    "* `review_id` — идентификатор обзора;\n",
    "* `book_id` — идентификатор книги;\n",
    "* `username` — имя пользователя, написавшего обзор;\n",
    "* `text` — текст обзора.\n",
    "\n",
    "<ins>*Схема базы данных сервиса чтения книг по подписке:*</ins>\n",
    "<br>\n",
    "https://disk.yandex.ru/i/IUtCE5vHxFC8Kg"
   ]
  },
  {
   "cell_type": "markdown",
   "metadata": {},
   "source": [
    "## Чтение базы данных"
   ]
  },
  {
   "cell_type": "code",
   "execution_count": 1,
   "metadata": {},
   "outputs": [
    {
     "data": {
      "text/html": [
       "<div>\n",
       "<style scoped>\n",
       "    .dataframe tbody tr th:only-of-type {\n",
       "        vertical-align: middle;\n",
       "    }\n",
       "\n",
       "    .dataframe tbody tr th {\n",
       "        vertical-align: top;\n",
       "    }\n",
       "\n",
       "    .dataframe thead th {\n",
       "        text-align: right;\n",
       "    }\n",
       "</style>\n",
       "<table border=\"1\" class=\"dataframe\">\n",
       "  <thead>\n",
       "    <tr style=\"text-align: right;\">\n",
       "      <th></th>\n",
       "      <th>book_id</th>\n",
       "      <th>author_id</th>\n",
       "      <th>title</th>\n",
       "      <th>num_pages</th>\n",
       "      <th>publication_date</th>\n",
       "      <th>publisher_id</th>\n",
       "    </tr>\n",
       "  </thead>\n",
       "  <tbody>\n",
       "    <tr>\n",
       "      <th>0</th>\n",
       "      <td>1</td>\n",
       "      <td>546</td>\n",
       "      <td>'Salem's Lot</td>\n",
       "      <td>594</td>\n",
       "      <td>2005-11-01</td>\n",
       "      <td>93</td>\n",
       "    </tr>\n",
       "    <tr>\n",
       "      <th>1</th>\n",
       "      <td>2</td>\n",
       "      <td>465</td>\n",
       "      <td>1 000 Places to See Before You Die</td>\n",
       "      <td>992</td>\n",
       "      <td>2003-05-22</td>\n",
       "      <td>336</td>\n",
       "    </tr>\n",
       "    <tr>\n",
       "      <th>2</th>\n",
       "      <td>3</td>\n",
       "      <td>407</td>\n",
       "      <td>13 Little Blue Envelopes (Little Blue Envelope...</td>\n",
       "      <td>322</td>\n",
       "      <td>2010-12-21</td>\n",
       "      <td>135</td>\n",
       "    </tr>\n",
       "    <tr>\n",
       "      <th>3</th>\n",
       "      <td>4</td>\n",
       "      <td>82</td>\n",
       "      <td>1491: New Revelations of the Americas Before C...</td>\n",
       "      <td>541</td>\n",
       "      <td>2006-10-10</td>\n",
       "      <td>309</td>\n",
       "    </tr>\n",
       "    <tr>\n",
       "      <th>4</th>\n",
       "      <td>5</td>\n",
       "      <td>125</td>\n",
       "      <td>1776</td>\n",
       "      <td>386</td>\n",
       "      <td>2006-07-04</td>\n",
       "      <td>268</td>\n",
       "    </tr>\n",
       "  </tbody>\n",
       "</table>\n",
       "</div>"
      ],
      "text/plain": [
       "   book_id  author_id                                              title  \\\n",
       "0        1        546                                       'Salem's Lot   \n",
       "1        2        465                 1 000 Places to See Before You Die   \n",
       "2        3        407  13 Little Blue Envelopes (Little Blue Envelope...   \n",
       "3        4         82  1491: New Revelations of the Americas Before C...   \n",
       "4        5        125                                               1776   \n",
       "\n",
       "   num_pages publication_date  publisher_id  \n",
       "0        594       2005-11-01            93  \n",
       "1        992       2003-05-22           336  \n",
       "2        322       2010-12-21           135  \n",
       "3        541       2006-10-10           309  \n",
       "4        386       2006-07-04           268  "
      ]
     },
     "execution_count": 1,
     "metadata": {},
     "output_type": "execute_result"
    }
   ],
   "source": [
    "# импортируем библиотеки\n",
    "import pandas as pd\n",
    "import sqlalchemy as sa\n",
    "\n",
    "# устанавливаем параметры\n",
    "db_config = {\n",
    "            'user': 'praktikum_student', # имя пользователя\n",
    "            'pwd': 'Sdf4$2;d-d30pp', # пароль\n",
    "            'host': 'rc1b-wcoijxj3yxfsf3fs.mdb.yandexcloud.net',\n",
    "            'port': 6432, # порт подключения\n",
    "            'db': 'data-analyst-final-project-db' # название базы данных\n",
    "            }\n",
    "connection_string = 'postgresql://{user}:{pwd}@{host}:{port}/{db}'.format(**db_config)\n",
    "\n",
    "# сохраняем коннектор\n",
    "engine = sa.create_engine(connection_string, connect_args={'sslmode':'require'})\n",
    "\n",
    "# чтобы выполнить SQL-запрос, пишем функцию с использованием Pandas\n",
    "def get_sql_data(query:str, engine:sa.engine.base.Engine=engine) -> pd.DataFrame:\n",
    "    '''Открываем соединение, получаем данные из sql, закрываем соединение'''\n",
    "    with engine.connect() as con:\n",
    "        return pd.read_sql(sql=sa.text(query), con = con)\n",
    "\n",
    "# формируем запрос и выводим данные\n",
    "query = '''SELECT * FROM books LIMIT 5'''\n",
    "\n",
    "get_sql_data(query)"
   ]
  },
  {
   "cell_type": "markdown",
   "metadata": {},
   "source": [
    "## Основная часть - решение задач"
   ]
  },
  {
   "cell_type": "markdown",
   "metadata": {},
   "source": [
    "### Задача 1\n",
    "\n",
    "Посчитайте, сколько книг вышло после 1 января 2000 года."
   ]
  },
  {
   "cell_type": "code",
   "execution_count": 2,
   "metadata": {},
   "outputs": [
    {
     "data": {
      "text/html": [
       "<div>\n",
       "<style scoped>\n",
       "    .dataframe tbody tr th:only-of-type {\n",
       "        vertical-align: middle;\n",
       "    }\n",
       "\n",
       "    .dataframe tbody tr th {\n",
       "        vertical-align: top;\n",
       "    }\n",
       "\n",
       "    .dataframe thead th {\n",
       "        text-align: right;\n",
       "    }\n",
       "</style>\n",
       "<table border=\"1\" class=\"dataframe\">\n",
       "  <thead>\n",
       "    <tr style=\"text-align: right;\">\n",
       "      <th></th>\n",
       "      <th>count</th>\n",
       "    </tr>\n",
       "  </thead>\n",
       "  <tbody>\n",
       "    <tr>\n",
       "      <th>0</th>\n",
       "      <td>819</td>\n",
       "    </tr>\n",
       "  </tbody>\n",
       "</table>\n",
       "</div>"
      ],
      "text/plain": [
       "   count\n",
       "0    819"
      ]
     },
     "execution_count": 2,
     "metadata": {},
     "output_type": "execute_result"
    }
   ],
   "source": [
    "query = \\\n",
    "'''\n",
    "    SELECT COUNT(*)\n",
    "    FROM books AS b\n",
    "    WHERE b.publication_date > '2000-01-01';\n",
    "'''\n",
    "\n",
    "get_sql_data(query)"
   ]
  },
  {
   "cell_type": "markdown",
   "metadata": {},
   "source": [
    "После 1 января 2000 года вышло `819` книг."
   ]
  },
  {
   "cell_type": "markdown",
   "metadata": {},
   "source": [
    "### Задача 2\n",
    "\n",
    "Для каждой книги посчитайте количество обзоров и среднюю оценку."
   ]
  },
  {
   "cell_type": "code",
   "execution_count": 3,
   "metadata": {},
   "outputs": [
    {
     "data": {
      "text/html": [
       "<div>\n",
       "<style scoped>\n",
       "    .dataframe tbody tr th:only-of-type {\n",
       "        vertical-align: middle;\n",
       "    }\n",
       "\n",
       "    .dataframe tbody tr th {\n",
       "        vertical-align: top;\n",
       "    }\n",
       "\n",
       "    .dataframe thead th {\n",
       "        text-align: right;\n",
       "    }\n",
       "</style>\n",
       "<table border=\"1\" class=\"dataframe\">\n",
       "  <thead>\n",
       "    <tr style=\"text-align: right;\">\n",
       "      <th></th>\n",
       "      <th>book_id</th>\n",
       "      <th>count_reviews</th>\n",
       "      <th>avg_rating</th>\n",
       "    </tr>\n",
       "  </thead>\n",
       "  <tbody>\n",
       "    <tr>\n",
       "      <th>0</th>\n",
       "      <td>1</td>\n",
       "      <td>2</td>\n",
       "      <td>3.67</td>\n",
       "    </tr>\n",
       "    <tr>\n",
       "      <th>1</th>\n",
       "      <td>2</td>\n",
       "      <td>1</td>\n",
       "      <td>2.50</td>\n",
       "    </tr>\n",
       "    <tr>\n",
       "      <th>2</th>\n",
       "      <td>3</td>\n",
       "      <td>3</td>\n",
       "      <td>4.67</td>\n",
       "    </tr>\n",
       "    <tr>\n",
       "      <th>3</th>\n",
       "      <td>4</td>\n",
       "      <td>2</td>\n",
       "      <td>4.50</td>\n",
       "    </tr>\n",
       "    <tr>\n",
       "      <th>4</th>\n",
       "      <td>5</td>\n",
       "      <td>4</td>\n",
       "      <td>4.00</td>\n",
       "    </tr>\n",
       "    <tr>\n",
       "      <th>...</th>\n",
       "      <td>...</td>\n",
       "      <td>...</td>\n",
       "      <td>...</td>\n",
       "    </tr>\n",
       "    <tr>\n",
       "      <th>989</th>\n",
       "      <td>996</td>\n",
       "      <td>3</td>\n",
       "      <td>3.67</td>\n",
       "    </tr>\n",
       "    <tr>\n",
       "      <th>990</th>\n",
       "      <td>997</td>\n",
       "      <td>3</td>\n",
       "      <td>3.40</td>\n",
       "    </tr>\n",
       "    <tr>\n",
       "      <th>991</th>\n",
       "      <td>998</td>\n",
       "      <td>4</td>\n",
       "      <td>3.20</td>\n",
       "    </tr>\n",
       "    <tr>\n",
       "      <th>992</th>\n",
       "      <td>999</td>\n",
       "      <td>2</td>\n",
       "      <td>4.50</td>\n",
       "    </tr>\n",
       "    <tr>\n",
       "      <th>993</th>\n",
       "      <td>1000</td>\n",
       "      <td>4</td>\n",
       "      <td>3.83</td>\n",
       "    </tr>\n",
       "  </tbody>\n",
       "</table>\n",
       "<p>994 rows × 3 columns</p>\n",
       "</div>"
      ],
      "text/plain": [
       "     book_id  count_reviews  avg_rating\n",
       "0          1              2        3.67\n",
       "1          2              1        2.50\n",
       "2          3              3        4.67\n",
       "3          4              2        4.50\n",
       "4          5              4        4.00\n",
       "..       ...            ...         ...\n",
       "989      996              3        3.67\n",
       "990      997              3        3.40\n",
       "991      998              4        3.20\n",
       "992      999              2        4.50\n",
       "993     1000              4        3.83\n",
       "\n",
       "[994 rows x 3 columns]"
      ]
     },
     "execution_count": 3,
     "metadata": {},
     "output_type": "execute_result"
    }
   ],
   "source": [
    "query = \\\n",
    "'''\n",
    "    SELECT b.book_id,\n",
    "           COUNT(DISTINCT rv.review_id) AS count_reviews,\n",
    "           ROUND(AVG(rt.rating), 2) AS avg_rating\n",
    "    FROM books AS b\n",
    "    JOIN reviews AS rv ON b.book_id=rv.book_id\n",
    "    JOIN ratings AS rt ON b.book_id=rt.book_id\n",
    "    GROUP BY b.book_id;\n",
    "'''\n",
    "\n",
    "get_sql_data(query)"
   ]
  },
  {
   "cell_type": "markdown",
   "metadata": {},
   "source": [
    "Для каждой книги рассчитано количество обзоров в столбце `count_reviews` и средний рейтинг в столбце `avg_rating`."
   ]
  },
  {
   "cell_type": "markdown",
   "metadata": {},
   "source": [
    "### Задача 3\n",
    "\n",
    "Определите издательство, которое выпустило наибольшее число книг толще 50 страниц — так вы исключите из анализа брошюры."
   ]
  },
  {
   "cell_type": "code",
   "execution_count": 4,
   "metadata": {},
   "outputs": [
    {
     "data": {
      "text/html": [
       "<div>\n",
       "<style scoped>\n",
       "    .dataframe tbody tr th:only-of-type {\n",
       "        vertical-align: middle;\n",
       "    }\n",
       "\n",
       "    .dataframe tbody tr th {\n",
       "        vertical-align: top;\n",
       "    }\n",
       "\n",
       "    .dataframe thead th {\n",
       "        text-align: right;\n",
       "    }\n",
       "</style>\n",
       "<table border=\"1\" class=\"dataframe\">\n",
       "  <thead>\n",
       "    <tr style=\"text-align: right;\">\n",
       "      <th></th>\n",
       "      <th>publisher</th>\n",
       "      <th>count_books</th>\n",
       "    </tr>\n",
       "  </thead>\n",
       "  <tbody>\n",
       "    <tr>\n",
       "      <th>0</th>\n",
       "      <td>Penguin Books</td>\n",
       "      <td>42</td>\n",
       "    </tr>\n",
       "  </tbody>\n",
       "</table>\n",
       "</div>"
      ],
      "text/plain": [
       "       publisher  count_books\n",
       "0  Penguin Books           42"
      ]
     },
     "execution_count": 4,
     "metadata": {},
     "output_type": "execute_result"
    }
   ],
   "source": [
    "query = \\\n",
    "'''\n",
    "    SELECT pb.publisher,\n",
    "           COUNT(b.book_id) AS count_books\n",
    "    FROM publishers AS pb\n",
    "    JOIN books AS b ON pb.publisher_id=b.publisher_id\n",
    "    WHERE b.num_pages > 50\n",
    "    GROUP BY pb.publisher\n",
    "    ORDER BY count_books DESC\n",
    "    LIMIT 1;\n",
    "'''\n",
    "\n",
    "get_sql_data(query)"
   ]
  },
  {
   "cell_type": "markdown",
   "metadata": {},
   "source": [
    "Издательство, которое выпустило наибольшее число книг толще 50 страниц — `Penguin Books`, оно выпустило 42 книги."
   ]
  },
  {
   "cell_type": "markdown",
   "metadata": {},
   "source": [
    "### Задача 4\n",
    "\n",
    "Определите автора с самой высокой средней оценкой книг — учитывайте только книги с 50 и более оценками."
   ]
  },
  {
   "cell_type": "code",
   "execution_count": 5,
   "metadata": {},
   "outputs": [
    {
     "data": {
      "text/html": [
       "<div>\n",
       "<style scoped>\n",
       "    .dataframe tbody tr th:only-of-type {\n",
       "        vertical-align: middle;\n",
       "    }\n",
       "\n",
       "    .dataframe tbody tr th {\n",
       "        vertical-align: top;\n",
       "    }\n",
       "\n",
       "    .dataframe thead th {\n",
       "        text-align: right;\n",
       "    }\n",
       "</style>\n",
       "<table border=\"1\" class=\"dataframe\">\n",
       "  <thead>\n",
       "    <tr style=\"text-align: right;\">\n",
       "      <th></th>\n",
       "      <th>author</th>\n",
       "      <th>avg_rating</th>\n",
       "    </tr>\n",
       "  </thead>\n",
       "  <tbody>\n",
       "    <tr>\n",
       "      <th>0</th>\n",
       "      <td>J.K. Rowling/Mary GrandPré</td>\n",
       "      <td>4.29</td>\n",
       "    </tr>\n",
       "  </tbody>\n",
       "</table>\n",
       "</div>"
      ],
      "text/plain": [
       "                       author  avg_rating\n",
       "0  J.K. Rowling/Mary GrandPré        4.29"
      ]
     },
     "execution_count": 5,
     "metadata": {},
     "output_type": "execute_result"
    }
   ],
   "source": [
    "query = \\\n",
    "'''\n",
    "    SELECT a.author,\n",
    "           ROUND(AVG(rt.rating), 2) AS avg_rating\n",
    "    FROM authors AS a\n",
    "    JOIN books AS b ON a.author_id=b.author_id\n",
    "    JOIN ratings AS rt ON b.book_id=rt.book_id    \n",
    "    GROUP BY a.author_id\n",
    "    HAVING COUNT(rt.rating_id) > 50\n",
    "    ORDER BY AVG(rt.rating) DESC\n",
    "    LIMIT 1;\n",
    "'''\n",
    "\n",
    "get_sql_data(query)"
   ]
  },
  {
   "cell_type": "markdown",
   "metadata": {},
   "source": [
    "Автор с самой высокой средней оценкой книг, имеющих более 50 оценок - `J.K. Rowling/Mary GrandPré`. Средняя оценка его книг - 4,29."
   ]
  },
  {
   "cell_type": "markdown",
   "metadata": {},
   "source": [
    "### Задача 5\n",
    "\n",
    "Посчитайте среднее количество обзоров от пользователей, которые поставили больше 48 оценок."
   ]
  },
  {
   "cell_type": "code",
   "execution_count": 6,
   "metadata": {},
   "outputs": [
    {
     "data": {
      "text/html": [
       "<div>\n",
       "<style scoped>\n",
       "    .dataframe tbody tr th:only-of-type {\n",
       "        vertical-align: middle;\n",
       "    }\n",
       "\n",
       "    .dataframe tbody tr th {\n",
       "        vertical-align: top;\n",
       "    }\n",
       "\n",
       "    .dataframe thead th {\n",
       "        text-align: right;\n",
       "    }\n",
       "</style>\n",
       "<table border=\"1\" class=\"dataframe\">\n",
       "  <thead>\n",
       "    <tr style=\"text-align: right;\">\n",
       "      <th></th>\n",
       "      <th>avg</th>\n",
       "    </tr>\n",
       "  </thead>\n",
       "  <tbody>\n",
       "    <tr>\n",
       "      <th>0</th>\n",
       "      <td>24.0</td>\n",
       "    </tr>\n",
       "  </tbody>\n",
       "</table>\n",
       "</div>"
      ],
      "text/plain": [
       "    avg\n",
       "0  24.0"
      ]
     },
     "execution_count": 6,
     "metadata": {},
     "output_type": "execute_result"
    }
   ],
   "source": [
    "query = \\\n",
    "'''\n",
    "    WITH users AS (\n",
    "        SELECT rt.username\n",
    "        FROM ratings AS rt\n",
    "        GROUP BY rt.username\n",
    "        HAVING COUNT(rt.rating_id) > 48\n",
    "    ),\n",
    "        users_review_count AS (\n",
    "        SELECT u.username,\n",
    "               COUNT(rv.review_id) as review_count\n",
    "        FROM users AS u\n",
    "        JOIN reviews AS rv ON u.username=rv.username\n",
    "        GROUP BY u.username\n",
    "    )\n",
    "    \n",
    "    SELECT AVG(urc.review_count)\n",
    "    FROM users_review_count AS urc\n",
    "'''\n",
    "\n",
    "get_sql_data(query)"
   ]
  },
  {
   "cell_type": "markdown",
   "metadata": {},
   "source": [
    "Среднее количество обзоров от пользователей, которые поставили больше 48 оценок - `24` обзора."
   ]
  },
  {
   "cell_type": "markdown",
   "metadata": {},
   "source": [
    "## Общие выводы (ответы к задачам)"
   ]
  },
  {
   "cell_type": "markdown",
   "metadata": {},
   "source": [
    "1. После 1 января 2000 года вышло `819` книг.\n",
    "1. Для каждой книги рассчитано количество обзоров в столбце `count_reviews` и средний рейтинг в столбце `avg_rating`.\n",
    "1. Издательство, которое выпустило наибольшее число книг толще 50 страниц — `Penguin Books`.\n",
    "1. Автор с самой высокой средней оценкой книг, имеющих более 50 оценок - `J.K. Rowling/Mary GrandPré`.\n",
    "1. Среднее количество обзоров от пользователей, которые поставили больше 48 оценок - `24` обзора."
   ]
  }
 ],
 "metadata": {
  "ExecuteTimeLog": [
   {
    "duration": 67,
    "start_time": "2024-05-30T14:26:23.602Z"
   },
   {
    "duration": 8,
    "start_time": "2024-05-30T14:27:39.750Z"
   },
   {
    "duration": 6458,
    "start_time": "2024-05-30T14:28:27.572Z"
   },
   {
    "duration": 11,
    "start_time": "2024-05-30T14:29:43.328Z"
   },
   {
    "duration": 34,
    "start_time": "2024-05-30T14:30:06.542Z"
   },
   {
    "duration": 30,
    "start_time": "2024-05-30T14:30:34.486Z"
   },
   {
    "duration": 8,
    "start_time": "2024-05-30T14:30:42.934Z"
   },
   {
    "duration": 17,
    "start_time": "2024-05-30T14:31:00.751Z"
   },
   {
    "duration": 13,
    "start_time": "2024-05-30T14:31:29.218Z"
   },
   {
    "duration": 68,
    "start_time": "2024-05-30T14:37:33.755Z"
   },
   {
    "duration": 50,
    "start_time": "2024-05-30T14:37:44.519Z"
   },
   {
    "duration": 6668,
    "start_time": "2024-05-30T14:38:44.572Z"
   },
   {
    "duration": 13,
    "start_time": "2024-05-30T14:38:51.241Z"
   },
   {
    "duration": 52,
    "start_time": "2024-05-30T14:38:51.256Z"
   },
   {
    "duration": 19,
    "start_time": "2024-05-30T14:38:51.311Z"
   },
   {
    "duration": 17,
    "start_time": "2024-05-30T14:38:51.332Z"
   },
   {
    "duration": 15,
    "start_time": "2024-05-30T14:38:51.351Z"
   },
   {
    "duration": 5362,
    "start_time": "2024-05-31T12:59:27.202Z"
   },
   {
    "duration": 11,
    "start_time": "2024-05-31T12:59:32.566Z"
   },
   {
    "duration": 71,
    "start_time": "2024-05-31T12:59:32.578Z"
   },
   {
    "duration": 13,
    "start_time": "2024-05-31T12:59:32.650Z"
   },
   {
    "duration": 15,
    "start_time": "2024-05-31T12:59:32.665Z"
   },
   {
    "duration": 13,
    "start_time": "2024-05-31T12:59:32.682Z"
   },
   {
    "duration": 7178,
    "start_time": "2024-05-31T15:24:45.507Z"
   },
   {
    "duration": 51,
    "start_time": "2024-05-31T15:24:52.687Z"
   },
   {
    "duration": 76,
    "start_time": "2024-05-31T15:24:52.740Z"
   },
   {
    "duration": 53,
    "start_time": "2024-05-31T15:24:52.818Z"
   },
   {
    "duration": 57,
    "start_time": "2024-05-31T15:24:52.872Z"
   },
   {
    "duration": 113,
    "start_time": "2024-05-31T15:24:52.930Z"
   },
   {
    "duration": 78,
    "start_time": "2024-05-31T15:25:24.807Z"
   },
   {
    "duration": 75,
    "start_time": "2024-05-31T15:26:59.923Z"
   },
   {
    "duration": 133,
    "start_time": "2024-05-31T15:27:28.329Z"
   },
   {
    "duration": 135,
    "start_time": "2024-05-31T15:27:40.883Z"
   },
   {
    "duration": 9,
    "start_time": "2024-05-31T15:27:51.013Z"
   },
   {
    "duration": 70,
    "start_time": "2024-05-31T15:28:19.438Z"
   },
   {
    "duration": 132,
    "start_time": "2024-05-31T15:28:36.975Z"
   },
   {
    "duration": 130,
    "start_time": "2024-05-31T15:28:54.179Z"
   },
   {
    "duration": 75,
    "start_time": "2024-05-31T15:29:17.511Z"
   },
   {
    "duration": 78,
    "start_time": "2024-05-31T15:35:38.051Z"
   },
   {
    "duration": 60,
    "start_time": "2024-05-31T15:37:18.262Z"
   },
   {
    "duration": 59,
    "start_time": "2024-05-31T15:40:25.865Z"
   },
   {
    "duration": 77,
    "start_time": "2024-05-31T15:40:43.308Z"
   },
   {
    "duration": 63,
    "start_time": "2024-05-31T15:42:53.869Z"
   },
   {
    "duration": 52,
    "start_time": "2024-05-31T15:43:01.586Z"
   },
   {
    "duration": 103,
    "start_time": "2024-05-31T15:56:34.696Z"
   },
   {
    "duration": 51,
    "start_time": "2024-05-31T15:58:55.294Z"
   },
   {
    "duration": 71,
    "start_time": "2024-05-31T16:00:27.251Z"
   },
   {
    "duration": 59,
    "start_time": "2024-05-31T16:00:54.267Z"
   },
   {
    "duration": 77,
    "start_time": "2024-05-31T16:04:05.529Z"
   },
   {
    "duration": 73,
    "start_time": "2024-05-31T16:04:09.552Z"
   },
   {
    "duration": 53,
    "start_time": "2024-05-31T16:05:01.683Z"
   },
   {
    "duration": 7462,
    "start_time": "2024-05-31T16:06:29.612Z"
   },
   {
    "duration": 52,
    "start_time": "2024-05-31T16:06:37.076Z"
   },
   {
    "duration": 73,
    "start_time": "2024-05-31T16:06:37.130Z"
   },
   {
    "duration": 53,
    "start_time": "2024-05-31T16:06:37.204Z"
   },
   {
    "duration": 56,
    "start_time": "2024-05-31T16:06:37.258Z"
   },
   {
    "duration": 53,
    "start_time": "2024-05-31T16:06:37.315Z"
   },
   {
    "duration": 5291,
    "start_time": "2024-06-01T08:44:13.664Z"
   },
   {
    "duration": 10,
    "start_time": "2024-06-01T08:44:18.957Z"
   },
   {
    "duration": 48,
    "start_time": "2024-06-01T08:44:18.968Z"
   },
   {
    "duration": 12,
    "start_time": "2024-06-01T08:44:19.018Z"
   },
   {
    "duration": 15,
    "start_time": "2024-06-01T08:44:19.031Z"
   },
   {
    "duration": 13,
    "start_time": "2024-06-01T08:44:19.047Z"
   }
  ],
  "kernelspec": {
   "display_name": "Python 3 (ipykernel)",
   "language": "python",
   "name": "python3"
  },
  "language_info": {
   "codemirror_mode": {
    "name": "ipython",
    "version": 3
   },
   "file_extension": ".py",
   "mimetype": "text/x-python",
   "name": "python",
   "nbconvert_exporter": "python",
   "pygments_lexer": "ipython3",
   "version": "3.11.4"
  },
  "toc": {
   "base_numbering": 1,
   "nav_menu": {},
   "number_sections": true,
   "sideBar": true,
   "skip_h1_title": true,
   "title_cell": "Table of Contents",
   "title_sidebar": "Contents",
   "toc_cell": false,
   "toc_position": {},
   "toc_section_display": true,
   "toc_window_display": false
  }
 },
 "nbformat": 4,
 "nbformat_minor": 2
}
